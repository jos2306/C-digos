{
 "cells": [
  {
   "cell_type": "markdown",
   "metadata": {},
   "source": [
    "Primero se cargan las librerias necesarias"
   ]
  },
  {
   "cell_type": "code",
   "execution_count": 1,
   "metadata": {},
   "outputs": [],
   "source": [
    "import os\n",
    "import glob\n",
    "from pywt import wavedec\n",
    "import pandas as pd\n",
    "import numpy as np\n",
    "from numpy import flatiter\n",
    "import matplotlib.pyplot as plt\n",
    "import scipy.io as sio\n",
    "from pyts.image import RecurrencePlot"
   ]
  },
  {
   "cell_type": "code",
   "execution_count": 2,
   "metadata": {},
   "outputs": [],
   "source": [
    "#Entradas\n",
    "uno='/home/joshua6090/Documentos/DL_AECG_P/anomalias_en_electrocardiogramas_si/kunst/china/orden/1'\n",
    "dos='/home/joshua6090/Documentos/DL_AECG_P/anomalias_en_electrocardiogramas_si/kunst/china/orden/2'\n",
    "tres='/home/joshua6090/Documentos/DL_AECG_P/anomalias_en_electrocardiogramas_si/kunst/china/orden/3'\n",
    "cuatro='/home/joshua6090/Documentos/DL_AECG_P/anomalias_en_electrocardiogramas_si/kunst/china/orden/4'\n",
    "cinco='/home/joshua6090/Documentos/DL_AECG_P/anomalias_en_electrocardiogramas_si/kunst/china/orden/5'\n",
    "seis='/home/joshua6090/Documentos/DL_AECG_P/anomalias_en_electrocardiogramas_si/kunst/china/orden/6'\n",
    "siete='/home/joshua6090/Documentos/DL_AECG_P/anomalias_en_electrocardiogramas_si/kunst/china/orden/7'\n",
    "ocho='/home/joshua6090/Documentos/DL_AECG_P/anomalias_en_electrocardiogramas_si/kunst/china/orden/8'\n",
    "nueve='/home/joshua6090/Documentos/DL_AECG_P/anomalias_en_electrocardiogramas_si/kunst/china/orden/9'"
   ]
  },
  {
   "cell_type": "markdown",
   "metadata": {},
   "source": [
    "Empieza lo chido, lo hice con 10 litros de cafe :'v"
   ]
  },
  {
   "cell_type": "markdown",
   "metadata": {},
   "source": [
    "Funcion para Leer la carpeta y archivos."
   ]
  },
  {
   "cell_type": "code",
   "execution_count": 3,
   "metadata": {},
   "outputs": [],
   "source": [
    "def LecturaDeArchivos(NombreCarpeta):\n",
    "    Archivos=glob.glob(NombreCarpeta + \"/*.mat\" )\n",
    "    return Archivos"
   ]
  },
  {
   "cell_type": "markdown",
   "metadata": {},
   "source": [
    "Funcion para hacer sublistas"
   ]
  },
  {
   "cell_type": "code",
   "execution_count": 4,
   "metadata": {},
   "outputs": [],
   "source": [
    "import scipy.io as sio\n",
    "from scipy import signal\n",
    "from scipy.signal import resample\n",
    "\n",
    "def SublistaDemv(Archivos):\n",
    "    frecuencia_muestreo_original = 500  # Hz\n",
    "    frecuencia_muestreo_nueva = 500  # Hz\n",
    "    mvL=[]\n",
    "    datos_downsampled_list = []\n",
    "    for i in range(0,len(Archivos)):\n",
    "        cargar=sio.loadmat(Archivos[i])\n",
    "        data=cargar['ECG']\n",
    "        ecg=data[0,0]['data']\n",
    "        derivacion=ecg[1,:]\n",
    "        mvL+=[derivacion]\n",
    "    ##Normalizacion y Reduccion de la frecduencia a 200Hz\n",
    "    for i in range(0,len(mvL)):\n",
    "        mvL[i]=(mvL[i]-np.mean(mvL[i]))/np.std(mvL[i])\n",
    "        factor_downsampling = frecuencia_muestreo_original // frecuencia_muestreo_nueva\n",
    "        datos_downsampled = signal.resample(mvL[i], len(mvL[i]) // factor_downsampling)\n",
    "        datos_downsampled_list.append(datos_downsampled)\n",
    "    \n",
    "    return datos_downsampled_list"
   ]
  },
  {
   "cell_type": "markdown",
   "metadata": {},
   "source": [
    "Segmentar cada 2 segundos"
   ]
  },
  {
   "cell_type": "code",
   "execution_count": 5,
   "metadata": {},
   "outputs": [],
   "source": [
    "def segmentacion(datos_downsampled_list):\n",
    "    a_partir = []\n",
    "    partir = 400\n",
    "    for datos in datos_downsampled_list:\n",
    "        for x in range(0, len(datos), partir):\n",
    "            subseccion = datos[x:x+partir]\n",
    "            if len(subseccion) == partir and not np.isnan(subseccion).any():\n",
    "                a_partir.append(subseccion)\n",
    "    return a_partir"
   ]
  },
  {
   "cell_type": "markdown",
   "metadata": {},
   "source": [
    "RP cA"
   ]
  },
  {
   "cell_type": "code",
   "execution_count": 6,
   "metadata": {},
   "outputs": [],
   "source": [
    "from skimage.io import imsave\n",
    "save_path='/home/joshua6090/Documentos/DL_AECG_P/anomalias_en_electrocardiogramas_si/kunst/PosibleProp/ECG_ART_2'\n",
    "def RecurrentplotcA(a_partir,dondecA):\n",
    "    eins=np.array([a_partir])\n",
    "    #print(len(eins))\n",
    "    for i in range(0,len(a_partir)):\n",
    "        #fig=plt.figure(figsize=[2,2])\n",
    "        #plt.interactive(False)\n",
    "        #ax = fig.add_subplot(111)\n",
    "        #ax.axes.get_xaxis().set_visible(False)\n",
    "        #ax.axes.get_yaxis().set_visible(False)\n",
    "        #ax.set_frame_on(False)\n",
    "        rpcA = RecurrencePlot()\n",
    "        X_rpcA= rpcA.fit_transform(eins[:,i])\n",
    "        plt.imshow(X_rpcA[0]*255.0, cmap='jet')\n",
    "        if dondecA==0:\n",
    "            \n",
    "            plt.axis('off')\n",
    "            plt.tight_layout()\n",
    "            plt.savefig('/home/joshua6090/Documentos/DL_AECG_P/anomalias_en_electrocardiogramas_si/kunst/PosibleProp/ECG_ART_2/1/1_{}.png'.format(i),bbox_inches='tight', pad_inches=0)\n",
    "            plt.clf()\n",
    "            plt.close()\n",
    "            \n",
    "        elif dondecA == 1:\n",
    "            \n",
    "            plt.axis('off')\n",
    "            plt.tight_layout()\n",
    "            plt.savefig('/home/joshua6090/Documentos/DL_AECG_P/anomalias_en_electrocardiogramas_si/kunst/PosibleProp/ECG_ART_2/2/2_{}.png'.format(i),bbox_inches='tight', pad_inches=0)\n",
    "            plt.clf()\n",
    "            plt.close()\n",
    "            \n",
    "        elif dondecA == 2:\n",
    "            plt.axis('off')\n",
    "            plt.tight_layout()\n",
    "            plt.savefig('/home/joshua6090/Documentos/DL_AECG_P/anomalias_en_electrocardiogramas_si/kunst/PosibleProp/ECG_ART_2/3/3_{}.png'.format(i),bbox_inches='tight', pad_inches=0)\n",
    "            plt.clf()\n",
    "            plt.close()\n",
    "        elif dondecA == 3: ########\n",
    "            plt.axis('off')\n",
    "            plt.tight_layout()\n",
    "            plt.savefig('/home/joshua6090/Documentos/DL_AECG_P/anomalias_en_electrocardiogramas_si/kunst/PosibleProp/ECG_ART_2/4/4_{}.png'.format(i),bbox_inches='tight', pad_inches=0)\n",
    "            plt.clf()\n",
    "            plt.close()\n",
    "\n",
    "\n",
    "        elif dondecA == 4:\n",
    "            plt.axis('off')\n",
    "            plt.tight_layout()\n",
    "            plt.savefig('/home/joshua6090/Documentos/DL_AECG_P/anomalias_en_electrocardiogramas_si/kunst/PosibleProp/ECG_ART_2/5/5_{}.png'.format(i),bbox_inches='tight', pad_inches=0)\n",
    "            plt.clf()\n",
    "            plt.close()\n",
    "\n",
    "        elif dondecA == 5:\n",
    "            plt.axis('off')\n",
    "            plt.tight_layout()\n",
    "            plt.savefig('/home/joshua6090/Documentos/DL_AECG_P/anomalias_en_electrocardiogramas_si/kunst/PosibleProp/ECG_ART_2/6/6_{}.png'.format(i),bbox_inches='tight', pad_inches=0)\n",
    "            plt.clf()\n",
    "            plt.close()\n",
    "\n",
    "        elif dondecA == 6:\n",
    "            plt.axis('off')\n",
    "            plt.tight_layout()\n",
    "            plt.savefig('/home/joshua6090/Documentos/DL_AECG_P/anomalias_en_electrocardiogramas_si/kunst/PosibleProp/ECG_ART_2/7/7_{}.png'.format(i),bbox_inches='tight', pad_inches=0)\n",
    "            plt.clf()\n",
    "            plt.close()\n",
    "\n",
    "        elif dondecA == 7:\n",
    "            plt.axis('off')\n",
    "            plt.tight_layout()\n",
    "            plt.savefig('/home/joshua6090/Documentos/DL_AECG_P/anomalias_en_electrocardiogramas_si/kunst/PosibleProp/ECG_ART_2/8/8_{}.png'.format(i),bbox_inches='tight', pad_inches=0)\n",
    "            plt.clf()\n",
    "            plt.close()\n",
    "\n",
    "        else:\n",
    "            plt.axis('off')\n",
    "            plt.tight_layout()\n",
    "            plt.savefig('/home/joshua6090/Documentos/DL_AECG_P/anomalias_en_electrocardiogramas_si/kunst/PosibleProp/ECG_ART_2/9/9_{}.png'.format(i),bbox_inches='tight', pad_inches=0)\n",
    "            plt.clf()\n",
    "            plt.close()                  "
   ]
  },
  {
   "attachments": {},
   "cell_type": "markdown",
   "metadata": {},
   "source": [
    "1"
   ]
  },
  {
   "cell_type": "code",
   "execution_count": 7,
   "metadata": {},
   "outputs": [],
   "source": [
    "STA=LecturaDeArchivos(uno)\n",
    "STmV=SublistaDemv(STA)\n",
    "STsegmentacion=segmentacion(STmV)\n",
    "STrp=RecurrentplotcA(STsegmentacion,0)\n"
   ]
  },
  {
   "cell_type": "code",
   "execution_count": null,
   "metadata": {},
   "outputs": [],
   "source": [
    "doss=LecturaDeArchivos(dos)\n",
    "dosmV=SublistaDemv(doss)\n",
    "dossegmentacion=segmentacion(dosmV)\n",
    "dosrp=RecurrentplotcA(dossegmentacion,1)"
   ]
  },
  {
   "cell_type": "code",
   "execution_count": null,
   "metadata": {},
   "outputs": [],
   "source": [
    "tress=LecturaDeArchivos(tres)\n",
    "tresmV=SublistaDemv(tress)\n",
    "tressegmentacion=segmentacion(tresmV)\n",
    "tresrp=RecurrentplotcA(tressegmentacion,2)"
   ]
  },
  {
   "cell_type": "code",
   "execution_count": null,
   "metadata": {},
   "outputs": [],
   "source": [
    "cuatros=LecturaDeArchivos(cuatro)\n",
    "cuatromV=SublistaDemv(cuatros)\n",
    "cuatrosegmentacion=segmentacion(cuatromV)\n",
    "cuatrosrp=RecurrentplotcA(cuatrosegmentacion,3)"
   ]
  },
  {
   "cell_type": "code",
   "execution_count": null,
   "metadata": {},
   "outputs": [],
   "source": [
    "cincos=LecturaDeArchivos(cinco)\n",
    "cincomV=SublistaDemv(cincos)\n",
    "cincosegmentacion=segmentacion(cincomV)\n",
    "cincorp=RecurrentplotcA(cincosegmentacion,4)"
   ]
  },
  {
   "cell_type": "code",
   "execution_count": null,
   "metadata": {},
   "outputs": [],
   "source": [
    "seiss=LecturaDeArchivos(seis)\n",
    "seismV=SublistaDemv(seiss)\n",
    "seissegmentacion=segmentacion(seismV)\n",
    "seissrp=RecurrentplotcA(seissegmentacion,5)"
   ]
  },
  {
   "cell_type": "code",
   "execution_count": null,
   "metadata": {},
   "outputs": [],
   "source": [
    "sietes=LecturaDeArchivos(siete)\n",
    "sietemV=SublistaDemv(sietes)\n",
    "sietesegmentacion=segmentacion(sietemV)\n",
    "sieterp=RecurrentplotcA(sietesegmentacion,6)"
   ]
  },
  {
   "cell_type": "code",
   "execution_count": null,
   "metadata": {},
   "outputs": [],
   "source": [
    "ochos=LecturaDeArchivos(ocho)\n",
    "ochomV=SublistaDemv(ochos)\n",
    "ochosegmentacion=segmentacion(ochomV)\n",
    "ochorp=RecurrentplotcA(ochosegmentacion,7)"
   ]
  },
  {
   "cell_type": "code",
   "execution_count": null,
   "metadata": {},
   "outputs": [],
   "source": [
    "nueves=LecturaDeArchivos(nueve)\n",
    "nuevesmV=SublistaDemv(nueves)\n",
    "nuevessegmentacion=segmentacion(nuevesmV)\n",
    "nuevessrp=RecurrentplotcA(nuevessegmentacion,8)"
   ]
  }
 ],
 "metadata": {
  "kernelspec": {
   "display_name": "Python 3.8.10 64-bit",
   "language": "python",
   "name": "python3"
  },
  "language_info": {
   "codemirror_mode": {
    "name": "ipython",
    "version": 3
   },
   "file_extension": ".py",
   "mimetype": "text/x-python",
   "name": "python",
   "nbconvert_exporter": "python",
   "pygments_lexer": "ipython3",
   "version": "3.10.12"
  },
  "orig_nbformat": 4,
  "vscode": {
   "interpreter": {
    "hash": "31f2aee4e71d21fbe5cf8b01ff0e069b9275f58929596ceb00d14d90e3e16cd6"
   }
  }
 },
 "nbformat": 4,
 "nbformat_minor": 2
}
