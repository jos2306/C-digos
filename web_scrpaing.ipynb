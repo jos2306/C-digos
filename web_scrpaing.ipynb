{
 "cells": [
  {
   "cell_type": "code",
   "execution_count": 1,
   "metadata": {},
   "outputs": [],
   "source": [
    "#In my opinion this space its only for libraries.\n",
    "import requests   #To do a request from the pague.\n",
    "from bs4 import BeautifulSoup #To make a Web Scraping.\n",
    "import openpyxl #TO create o handle a excel file."
   ]
  },
  {
   "cell_type": "code",
   "execution_count": 21,
   "metadata": {},
   "outputs": [],
   "source": [
    "# Function to scrape quotes and authors from the website.\n",
    "def scrape_quotes():\n",
    "    url = 'https://quotes.toscrape.com/'\n",
    "    response = requests.get(url)\n",
    "    soup = BeautifulSoup(response.text, 'html.parser')\n",
    "    quotes = soup.find_all('span', class_='text')\n",
    "    authors = soup.find_all('small', class_='author')\n",
    "    return quotes, authors\n",
    "\n",
    "# Function to write quotes and authors to an Excel file.\n",
    "def write_to_excel(quotes, authors):\n",
    "    wb = openpyxl.Workbook()\n",
    "    ws = wb.active\n",
    "    ws.cell(row=1, column=1).value = 'Quote'\n",
    "    ws.cell(row=1, column=2).value = 'Author'\n",
    "    for i in range(len(quotes)):\n",
    "        ws.cell(row=i+2, column=1).value = quotes[i].text\n",
    "        ws.cell(row=i+2, column=2).value = authors[i].text\n",
    "    wb.save('QuotesScraple.xlsx')\n",
    "\n",
    "# Main function.\n",
    "def main():\n",
    "    quotes, authors = scrape_quotes()\n",
    "    write_to_excel(quotes, authors)\n",
    "\n",
    "if __name__ == '__main__':\n",
    "    main()"
   ]
  }
 ],
 "metadata": {
  "kernelspec": {
   "display_name": "Python 3",
   "language": "python",
   "name": "python3"
  },
  "language_info": {
   "codemirror_mode": {
    "name": "ipython",
    "version": 3
   },
   "file_extension": ".py",
   "mimetype": "text/x-python",
   "name": "python",
   "nbconvert_exporter": "python",
   "pygments_lexer": "ipython3",
   "version": "3.10.12"
  }
 },
 "nbformat": 4,
 "nbformat_minor": 2
}
