{
 "cells": [
  {
   "cell_type": "markdown",
   "metadata": {},
   "source": [
    "## Libreria"
   ]
  },
  {
   "cell_type": "code",
   "execution_count": 8,
   "metadata": {},
   "outputs": [],
   "source": [
    "from openai import OpenAI\n",
    "import datetime\n",
    "import time"
   ]
  },
  {
   "cell_type": "code",
   "execution_count": 9,
   "metadata": {},
   "outputs": [],
   "source": [
    "client=OpenAI(\n",
    "    api_key=\"*************\",\n",
    "    )\n",
    "\n",
    "class ChatBotEComerce:\n",
    "    def __init__(self):\n",
    "        pass\n",
    "###############\n",
    "    def Obtener_Respuesta(self,texto_usuario):\n",
    "        hora_actual = datetime.datetime.now().hour\n",
    "\n",
    "        if 6 <= hora_actual < 12:\n",
    "            mensaje_bienvenida = \"Buenos días, ¿en qué puedo ayudarle?\"\n",
    "        elif 12 <= hora_actual < 18:\n",
    "            mensaje_bienvenida = \"Buenas tardes, ¿en qué puedo ayudarle?\"\n",
    "        else:\n",
    "            mensaje_bienvenida = \"Buenas noches, ¿en qué puedo ayudarle?\"\n",
    "        \n",
    "        # Lógica para determinar el tema de la conversación\n",
    "        tema = self.Determinar_Tema(texto_usuario)\n",
    "        \n",
    "        ## Temas\n",
    "        if tema == \"metodo_pago\":\n",
    "            return self.Respuesta_MetodoPago(texto_usuario)\n",
    "        elif tema == \"carrito\":\n",
    "            return self.Respuesta_carrito(texto_usuario)\n",
    "        elif tema == \"devoluciones\":\n",
    "            return self.Respuesta_devoluciones(texto_usuario)\n",
    "        else:\n",
    "            return mensaje_bienvenida\n",
    "##############\n",
    "    def Determinar_Tema(self, texto_usuario):\n",
    "        if \"pagar\" in texto_usuario or \"pago\" in texto_usuario or \"tarjeta\" in texto_usuario:\n",
    "            return \"metodo_pago\"\n",
    "        elif \"carrito\" in texto_usuario or \"comprar\" in texto_usuario:\n",
    "            return \"carrito\"\n",
    "        elif \"devolución\" in texto_usuario or \"devolver\" in texto_usuario:\n",
    "            return \"devoluciones\"\n",
    "        else:\n",
    "            return \"otros\"\n",
    "\n",
    "##############\n",
    "    def Respuesta_MetodoPago(self, texto_usuario):\n",
    "        return self.Generar_Respuesta(texto_usuario)\n",
    "##############\n",
    "    def Respuesta_carrito(self, texto_usuario):\n",
    "        return self.Generar_Respuesta(texto_usuario)\n",
    "    \n",
    "##############\n",
    "    def Respuesta_devoluciones(self, texto_usuario):\n",
    "        return self.Generar_Respuesta(texto_usuario)\n",
    "\n",
    "##############    \n",
    "    def Generar_Respuesta(self, texto_usuario):\n",
    "       \n",
    "        mensaje = {\n",
    "            \"role\": \"user\",\n",
    "            \"content\": texto_usuario\n",
    "        }       \n",
    "        \n",
    "        messages = [mensaje]\n",
    "        r = client.chat.completions.create(\n",
    "            model=\"gpt-4\",\n",
    "            messages=messages,\n",
    "        )                      \n",
    "        respuesta = r.choices[0].message.content\n",
    "        return respuesta"
   ]
  },
  {
   "cell_type": "code",
   "execution_count": 11,
   "metadata": {},
   "outputs": [
    {
     "name": "stdout",
     "output_type": "stream",
     "text": [
      "Bot: Buenas noches, ¿en qué puedo ayudarle?\n",
      "Bot: Buenas noches, ¿en qué puedo ayudarle?\n",
      "Bot: Dependiendo de la plataforma o servicio que utilices, las formas de pago pueden variar. Generalmente se aceptan tarjetas de crédito/débito, pagos a través de PayPal, transferencias bancarias, cheques, pagos en efectivo en tiendas físicas, entre otros. Algunas aplicaciones también permiten vincular los datos de pago para facilitar compras futuras. \n",
      "\n",
      "Por favor, tenga en cuenta que siempre debe garantizar que la plataforma de pago que estás utilizando sea segura y que los detalles de su tarjeta estén protegidos. Asegúrate de poder confirmar que el sitio web tiene un certificado SSL y está encriptado antes de ingresar cualquier detalle de pago. \n",
      "\n",
      "Además, algunos servicios pueden requerir planes de suscripción y se debitarán de su cuenta en forma recurrente. Asegúrate de leer y comprender todos los términos y condiciones.\n",
      "Bot: Fue un placer ayudarte !!\n"
     ]
    }
   ],
   "source": [
    "chatbot = ChatBotEComerce()\n",
    "while True:\n",
    "    usuario_entrada= input(\"Usuario: \")\n",
    "    if usuario_entrada.lower() in ['exit', 'quit', 'stop', 'salir', 'adios']:\n",
    "        print(\"Bot: Fue un placer ayudarte !!\")\n",
    "        time.sleep(4)\n",
    "        break\n",
    "\n",
    "    if usuario_entrada == \"\":\n",
    "        continue\n",
    "    \n",
    "    respuesta = chatbot.Obtener_Respuesta(usuario_entrada)\n",
    "    print(\"Bot:\", respuesta)\n",
    "    print(\"*\"*100)"
   ]
  }
 ],
 "metadata": {
  "kernelspec": {
   "display_name": "Python 3",
   "language": "python",
   "name": "python3"
  },
  "language_info": {
   "codemirror_mode": {
    "name": "ipython",
    "version": 3
   },
   "file_extension": ".py",
   "mimetype": "text/x-python",
   "name": "python",
   "nbconvert_exporter": "python",
   "pygments_lexer": "ipython3",
   "version": "3.10.12"
  }
 },
 "nbformat": 4,
 "nbformat_minor": 2
}
